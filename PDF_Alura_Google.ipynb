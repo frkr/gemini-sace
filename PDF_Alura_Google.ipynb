{
  "nbformat": 4,
  "nbformat_minor": 0,
  "metadata": {
    "colab": {
      "provenance": []
    },
    "kernelspec": {
      "name": "python3",
      "display_name": "Python 3"
    },
    "language_info": {
      "name": "python"
    }
  },
  "cells": [
    {
      "cell_type": "markdown",
      "source": [
        "\n",
        "[![Open in Colb](https://colab.research.google.com/assets/colab-badge.svg)](https://colab.research.google.com/github/frkr/gemini-sace/blob/master/PDF_Alura_Google.ipynb)"
      ],
      "metadata": {
        "id": "1_ExLyMggfA7"
      }
    },
    {
      "cell_type": "code",
      "source": [
        "# @title Crie sua Api Key (chaves da aplicação) neste link: [Api Key](https://aistudio.google.com/app/apikey?hl=pt-br) { run: \"auto\", vertical-output: true, display-mode: \"form\" }\n",
        "GOOGLE_API_KEY = \"\" # @param {type:\"string\"}\n",
        "MODEL_NAME = \"gemini-1.0-pro\" # @param {type:\"string\"}\n",
        "#\"gemini-1.5-pro-latest\"\n",
        "\n",
        "\n",
        "!pip install -q google-generativeai\n",
        "\n",
        "import pathlib\n",
        "import textwrap\n",
        "import google.generativeai as genai\n",
        "from IPython.display import display\n",
        "from IPython.display import Markdown\n",
        "import hashlib\n",
        "\n",
        "genai.configure(api_key=GOOGLE_API_KEY)\n",
        "\n",
        "def to_markdown(text):\n",
        "  text = text.replace('•', '  *')\n",
        "  return Markdown(textwrap.indent(text, '> ', predicate=lambda _: True))\n",
        "\n",
        "#to_markdown(\"# simple text\")\n",
        "\n",
        "generation_config = {\n",
        "  \"temperature\": 1,\n",
        "  \"top_p\": 0.95,\n",
        "  \"top_k\": 0,\n",
        "  \"max_output_tokens\": 8192,\n",
        "}\n",
        "\n",
        "safety_settings = [\n",
        "  {\n",
        "    \"category\": \"HARM_CATEGORY_HARASSMENT\",\n",
        "    \"threshold\": \"BLOCK_MEDIUM_AND_ABOVE\"\n",
        "  },\n",
        "  {\n",
        "    \"category\": \"HARM_CATEGORY_HATE_SPEECH\",\n",
        "    \"threshold\": \"BLOCK_MEDIUM_AND_ABOVE\"\n",
        "  },\n",
        "  {\n",
        "    \"category\": \"HARM_CATEGORY_SEXUALLY_EXPLICIT\",\n",
        "    \"threshold\": \"BLOCK_MEDIUM_AND_ABOVE\"\n",
        "  },\n",
        "  {\n",
        "    \"category\": \"HARM_CATEGORY_DANGEROUS_CONTENT\",\n",
        "    \"threshold\": \"BLOCK_MEDIUM_AND_ABOVE\"\n",
        "  },\n",
        "]\n",
        "\n",
        "model = genai.GenerativeModel(model_name=MODEL_NAME,\n",
        "                              generation_config=generation_config,\n",
        "                              safety_settings=safety_settings)\n",
        "\n",
        "MODEL_NAME"
      ],
      "metadata": {
        "id": "LZVgyoOmKxS7"
      },
      "execution_count": null,
      "outputs": []
    },
    {
      "cell_type": "markdown",
      "source": [
        "# Inundações da Bacia do Taquari.\n",
        "\n",
        "**O sistema vai baixar boletins de 2022 e 2023 e vamos tentar descobrir se o Gemini consegue fazer previsões.**\n",
        "\n",
        "---\n",
        "- Sistemas de Alerta Hidrológico (SAHs) - [SACE](https://www.sgb.gov.br/sace/)\n",
        "- Bacia -  [Taquari, Porto Alegre e Lagoa dos Patos](https://www.sgb.gov.br/sace/index_bacias_monitoradas.php?getbacia=btaquari#)\n",
        "- [Boletins](https://www.sgb.gov.br/sace/boletins.php?idbacia=9)\n"
      ],
      "metadata": {
        "id": "ryvO5dxn36Bb"
      }
    },
    {
      "cell_type": "code",
      "source": [
        "# @title Download { run: \"auto\", vertical-output: true, display-mode: \"form\" }\n",
        "LINK_BASE = \"https://www.sgb.gov.br/sace/\" # @param {type:\"string\"}\n",
        "ARQUIVOS = \"https://www.sgb.gov.br/sace/boletins.php?idbacia=9\" # @param {type:\"string\"}\n",
        "FILTRO1 = \"2023\" # @param {type:\"string\"}\n",
        "FILTRO2 = \"2022\" # @param {type:\"string\"}\n",
        "\n",
        "\n",
        "from urllib import request\n",
        "from bs4 import BeautifulSoup\n",
        "import re\n",
        "import os\n",
        "import urllib\n",
        "from urllib.parse import urlparse\n",
        "\n",
        "# connect to website and get list of all pdfs\n",
        "response = request.urlopen(ARQUIVOS).read()\n",
        "soup= BeautifulSoup(response, \"html.parser\")\n",
        "links = soup.find_all('a', href=re.compile(r'(.pdf)'))\n",
        "\n",
        "# clean the pdf link names\n",
        "url_list = []\n",
        "for el in links:\n",
        "  if(el['href'].startswith('http')):\n",
        "    url_list.append(el['href'])\n",
        "  else:\n",
        "    url_list.append(LINK_BASE + el['href'])\n",
        "\n",
        "# download the pdfs to a specified location\n",
        "downloaded = []\n",
        "for url in url_list:\n",
        "    # print(url)\n",
        "    if FILTRO1 in url or FILTRO2 in url:\n",
        "      downloaded.append(os.path.basename(url))\n",
        "      print(os.path.basename(url))\n",
        "      request.urlretrieve(url.replace(\" \",\"%20\"), os.path.basename(url))\n",
        "\n",
        "print('download concluido')"
      ],
      "metadata": {
        "id": "ve1DRt-x6XXe",
        "colab": {
          "base_uri": "https://localhost:8080/"
        },
        "outputId": "aa7c3bdc-29ef-4dae-ba27-60135f1822ea"
      },
      "execution_count": null,
      "outputs": [
        {
          "output_type": "stream",
          "name": "stdout",
          "text": [
            "20240511_08-20240511 - 104901.pdf\n",
            "20240511_02-20240511 - 032459.pdf\n",
            "20240506_22-20240506 - 234505.pdf\n",
            "20240506_15-20240506 - 164641.pdf\n",
            "20240506_07-20240506 - 083615.pdf\n",
            "20240505_22-20240506 - 002534.pdf\n",
            "20240505_15-20240505 - 163823.pdf\n",
            "20240505_06-20240505 - 082602.pdf\n",
            "20240504_22-20240505 - 005132.pdf\n",
            "20240504_08-20240504 - 101433.pdf\n",
            "20240503_22-20240503 - 232910.pdf\n",
            "20240503_15-20240503 - 172717.pdf\n",
            "20240503_06-20240503 - 082220.pdf\n",
            "20240503_02-20240503 - 031646.pdf\n",
            "20240502_22-20240502 - 232754.pdf\n",
            "20240502_18-20240502 - 193408.pdf\n",
            "20240502_14-20240502 - 155032.pdf\n",
            "20240502_10-20240502 - 144947.pdf\n",
            "20240502_06-20240502 - 091143.pdf\n",
            "20240502_02-20240502 - 034816.pdf\n",
            "20240501_22-20240502 - 002838.pdf\n",
            "20240501_14-20240501 - 162844.pdf\n",
            "20240501_10-20240501 - 111848.pdf\n",
            "20240501_06-20240501 - 073914.pdf\n",
            "20240501_02-20240501 - 035231.pdf\n",
            "20240430_22-20240430 - 232725.pdf\n",
            "20240430_19-20240430 - 215222.pdf\n",
            "20240430_14-20240430 - 164218.pdf\n",
            "20240430_10-20240430 - 114943.pdf\n",
            "20240430_06-20240430 - 075404.pdf\n",
            "20231120_17-20231120 - 181559.pdf\n",
            "20231120_07-20231120 - 083519.pdf\n",
            "20231119_17-20231119 - 181143.pdf\n",
            "20231119_08-20231119 - 181200.pdf\n",
            "20231119_04-20231119 - 181224.pdf\n",
            "20231119_00-20231119 - 014257.pdf\n",
            "20231118_20-20231118 - 230358.pdf\n",
            "20231118_16-20231118 - 171625.pdf\n",
            "20231118_12-20231118 - 132141.pdf\n",
            "20231118_08-20231118 - 091756.pdf\n",
            "20231118_04-20231118 - 053326.pdf\n",
            "20231118_00-20231118 - 012310.pdf\n"
          ]
        }
      ]
    },
    {
      "cell_type": "code",
      "source": [
        "#@title Criar historico { run: \"auto\", vertical-output: true, display-mode: \"form\" }\n",
        "\n",
        "history = []\n",
        "for url in downloaded:\n",
        "  with open(os.path.basename(url),\"rb\") as f:\n",
        "    image_blob = f.read()\n",
        "    print(os.path.basename(url))\n",
        "    history.append({\n",
        "        \"role\": \"user\",\n",
        "        \"parts\": [{\n",
        "            \"data\": image_blob,\n",
        "            \"mime_type\": \"application/pdf\",\n",
        "        }]\n",
        "    })\n",
        "\n",
        "convo = model.start_chat(history=history)\n",
        "\n",
        "print('Arquivos enviados')\n"
      ],
      "metadata": {
        "id": "V_q8XYkgzCg1"
      },
      "execution_count": null,
      "outputs": []
    },
    {
      "cell_type": "code",
      "source": [
        "#@title Debater sobre o documento: { run: \"auto\", vertical-output: true, display-mode: \"form\" }\n",
        "prompt = \"O que significa estes documentos?\" # @param {type:\"string\"}\n",
        "\n",
        "convo.send_message(prompt)\n",
        "to_markdown(convo.last.text)\n"
      ],
      "metadata": {
        "id": "Ac0JQYnWzGW-"
      },
      "execution_count": null,
      "outputs": []
    }
  ]
}
